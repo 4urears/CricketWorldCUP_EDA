{
 "cells": [
  {
   "cell_type": "code",
   "execution_count": null,
   "id": "512310b0",
   "metadata": {},
   "outputs": [],
   "source": [
    "import numpy as np\n",
    "import pandas as pd\n",
    "from IPython.display import display\n",
    "import matplotlib.pyplot as plt\n",
    "import seaborn as sns\n",
    "import datetime"
   ]
  },
  {
   "cell_type": "code",
   "execution_count": null,
   "id": "89588af1",
   "metadata": {},
   "outputs": [],
   "source": []
  },
  {
   "cell_type": "code",
   "execution_count": null,
   "id": "ef4b04e9",
   "metadata": {},
   "outputs": [],
   "source": [
    "#read and clean Data a little Bit\n",
    "\n",
    "innings=pd.read_csv(r\"innings.csv\") #load innings data in dataframe\n",
    "innings.columns.str.strip() #cleaning column names\n",
    "innings=innings.drop_duplicates()#drop duplicates\n",
    "innings.columns = innings.columns.str.lower() #lower all column names\n",
    "\n",
    "#upload matches data and clean it\n",
    "matches=pd.read_csv(r\"matches.csv\") #load matches data in datafram\n",
    "matches.columns.str.strip() #cleaning column names\n",
    "matches = matches[matches['toss.elected'].notnull()]  # Keeps rows where 'column_name' is not null/blank\n",
    "#filers only world cups\n",
    "target_labels = [ 'Prudential World Cup 1975', 'Prudential World Cup 1979', 'Prudential World Cup 1983', 'Reliance World Cup 1987/88','Benson and Hedges World Cup 1991/92',\n",
    "    'Wills World Cup 1995/96', 'ICC World Cup 1999', 'ICC World Cup 2002/03','ICC World Cup 2006/07', 'ICC World Cup 2010/11','ICC Cricket World Cup 2015',\n",
    "    'ICC Cricket World Cup 2019']\n",
    "matches = matches[matches['tournamentLabel'].isin(target_labels)]#filters tio only worldcup matches\n",
    "drop_c=['matchStatus_victoryMarginInningsRuns','matchStatus_outcome','umpire.name.5', 'match.summary','isLimitedOvers'\n",
    "        ,'totalBalls','oversLimit','matchType','matchStatus_victoryMarginRuns','matchStatus_victoryMarginWickets','matchStatus','matchSummary']\n",
    "matches = matches.drop(columns=drop_c)#drop not required columns\n",
    "# Filter columns that start with 'Unnamed'\n",
    "unnamed_columns = [col for col in matches.columns if col.startswith('Unnamed')] #drop unnamed columns\n",
    "matches = matches.drop(columns=unnamed_columns)# Drop unnamed columns\n",
    "matches = matches.drop_duplicates()#drop duplicates\n",
    "\n",
    "\n",
    "teams=pd.read_csv(r\"teams.csv\")\n",
    "teams.columns.str.strip() #cleaning column names\n",
    "teams=teams.drop_duplicates()#drop duplicates\n",
    "teams.columns = teams.columns.str.lower()\n",
    "\n",
    "players=pd.read_csv(r\"players.csv\") #load players data in dataframe\n",
    "players.columns.str.strip() #cleaning column names\n",
    "players=players.drop_duplicates()\n",
    "\n",
    "venues=pd.read_csv(r\"venues.csv\")\n",
    "venues.columns.str.strip() #cleaning column names\n",
    "venues=venues.drop_duplicates()\n",
    "\n",
    "players=pd.read_csv(r'players.csv')\n",
    "players.columns.str.strip()#cleaning column names\n",
    "players=players.drop_duplicates()\n",
    "# Handling missing values - for example, filling missing values in 'bowlingStyle' with 'Unknown'\n",
    "players['bowlingStyle'].fillna('Unknown', inplace=True)\n",
    "# Converting 'dateOfBirth' to a consistent date format\n",
    "players['dateOfBirth'] = pd.to_datetime(players['dateOfBirth'], errors='coerce')\n",
    "# Cleaning boolean columns to ensure they contain True/False values\n",
    "bool_cols = ['rightArmedBowl', 'rightHandedBat']\n",
    "players[bool_cols] = players[bool_cols].replace({True: True, False: False, 'TRUE': True, 'FALSE': False, 'T': True, 'F': False})\n",
    "players['nationality'].replace({'PK':'Pakistani','IN':\"Indian\",'BD':'Bangladeshi','SCO':'Scottish','PG':'Papuan'},inplace=True)#overlappsamenatioanlity\n",
    "players = players.drop_duplicates(subset=['id'])#remove duplicates\n",
    "\n",
    "# Displaying cleaned data\n",
    "print(players)\n",
    "print(players.info())\n",
    "\n",
    "\n",
    "overbd=pd.read_csv(r'overBallDetails.csv')\n",
    "overbd=overbd.drop_duplicates()\n",
    "overbd.columns.str.strip() #cleaning column names\n",
    "\n"
   ]
  },
  {
   "cell_type": "code",
   "execution_count": null,
   "id": "61045151",
   "metadata": {},
   "outputs": [],
   "source": [
    "innings.info()"
   ]
  },
  {
   "cell_type": "code",
   "execution_count": null,
   "id": "d3e00d8a",
   "metadata": {},
   "outputs": [],
   "source": [
    "innings['matchid'].nunique()"
   ]
  },
  {
   "cell_type": "code",
   "execution_count": null,
   "id": "8733d4fb",
   "metadata": {},
   "outputs": [],
   "source": [
    "matches['id'].nunique()"
   ]
  },
  {
   "cell_type": "markdown",
   "id": "1d08e47a",
   "metadata": {},
   "source": [
    " innings(matchiD) and matches(id), both represent same number and uniue, but we can't join them as the number of values don't overlap\n"
   ]
  },
  {
   "cell_type": "code",
   "execution_count": null,
   "id": "186386ec",
   "metadata": {},
   "outputs": [],
   "source": [
    "innings.duplicated().sum()#check for duplicates, zero output shows no duplicates"
   ]
  },
  {
   "cell_type": "code",
   "execution_count": null,
   "id": "dbaf13fd",
   "metadata": {},
   "outputs": [],
   "source": [
    "matches.duplicated().sum()#check for duplicates, zero output shows no duplicates"
   ]
  },
  {
   "cell_type": "code",
   "execution_count": null,
   "id": "ee04efdb",
   "metadata": {},
   "outputs": [],
   "source": [
    "allout=innings['allout'].value_counts()\n",
    "allout"
   ]
  },
  {
   "cell_type": "code",
   "execution_count": null,
   "id": "b01e6de5",
   "metadata": {},
   "outputs": [],
   "source": [
    "plt.figure(figsize=(8, 6))\n",
    "plt.pie(allout, labels=allout.index, autopct='%1.1f%%', startangle=140)\n",
    "plt.title('% of innings where all players allout')\n",
    "plt.axis('equal')  # Equal aspect ratio ensures that pie is drawn as a circle.\n",
    "plt.show()"
   ]
  },
  {
   "cell_type": "code",
   "execution_count": null,
   "id": "69ee310f",
   "metadata": {},
   "outputs": [],
   "source": [
    "mean=runrate_m=innings['runrate'].mean()\n",
    "runrate_m"
   ]
  },
  {
   "cell_type": "code",
   "execution_count": null,
   "id": "69cc6c42",
   "metadata": {},
   "outputs": [],
   "source": [
    "std_dev=runrate_s=innings['runrate'].std()\n",
    "runrate_s"
   ]
  },
  {
   "cell_type": "code",
   "execution_count": null,
   "id": "c8193196",
   "metadata": {},
   "outputs": [],
   "source": [
    "plt.figure(figsize=(8, 6))\n",
    "count, bins, ignored = plt.hist(innings['runrate'], 30, density=True)  # Creating a histogram\n",
    "plt.plot(bins, 1/(std_dev * np.sqrt(2 * np.pi)) * np.exp(- (bins - mean)**2 / (2 * std_dev**2)), linewidth=2, color='r')\n",
    "plt.title('Normal Distribution Curve of RunRates')\n",
    "plt.xlabel('Value')\n",
    "plt.ylabel('Density')\n",
    "plt.show()"
   ]
  },
  {
   "cell_type": "code",
   "execution_count": null,
   "id": "88e1deb4",
   "metadata": {},
   "outputs": [],
   "source": [
    "#runrate distribution\n",
    "plt.figure(figsize=(8, 6))\n",
    "#count, bins, ignored = plt.hist(innings['runrate'], 30, density=True)  # Creating a histogram\n",
    "plt.boxplot(innings['runrate'])\n",
    "plt.title('Normal Distribution Curve of runrates')\n",
    "plt.xlabel('run')\n",
    "plt.ylabel('Runrates')\n",
    "plt.show()"
   ]
  },
  {
   "cell_type": "code",
   "execution_count": null,
   "id": "8a7810ee",
   "metadata": {},
   "outputs": [],
   "source": [
    "innings['extras'] = innings[['noballruns', 'wideruns', 'byeruns','legbyeruns','penaltyruns']].sum(axis=1)\n",
    "innings['extras']"
   ]
  },
  {
   "cell_type": "code",
   "execution_count": null,
   "id": "07306c5d",
   "metadata": {},
   "outputs": [],
   "source": [
    "\n",
    "# Calculate the correlation matrix\n",
    "columns=['extras','noballruns', 'wideruns', 'byeruns','legbyeruns','penaltyruns']\n",
    "correlation_matrix = innings[columns].corr()\n",
    "\n",
    "# Display the correlation matrix\n",
    "print(correlation_matrix)"
   ]
  },
  {
   "cell_type": "code",
   "execution_count": null,
   "id": "0b696413",
   "metadata": {},
   "outputs": [],
   "source": [
    "plt.figure(figsize=(10, 8))\n",
    "sns.heatmap(correlation_matrix, annot=True, cmap='cividis', fmt='.2f')\n",
    "plt.title('Correlation Heatmap')\n",
    "plt.show()"
   ]
  },
  {
   "cell_type": "code",
   "execution_count": null,
   "id": "58a3b983",
   "metadata": {},
   "outputs": [],
   "source": [
    "matches['matchEndDate'].info()"
   ]
  },
  {
   "cell_type": "code",
   "execution_count": null,
   "id": "ba696639",
   "metadata": {},
   "outputs": [],
   "source": [
    "matches['toss1'] = matches['toss.winner'].str.split().str[0]\n",
    "matches['result'] = matches['matchStatus_text'].str.split().str[-2]\n",
    "matches.info()\n",
    "\n",
    "\n",
    "#matches['month']=matches[\"matchDate\"].str.split().str[0]\n"
   ]
  },
  {
   "cell_type": "code",
   "execution_count": null,
   "id": "d674a161",
   "metadata": {},
   "outputs": [],
   "source": [
    "sum_over_progress = innings.groupby('matchid')['overprogress'].sum()\n",
    "count_match_ids = sum_over_progress.value_counts()\n",
    "print(sum_over_progress)"
   ]
  },
  {
   "cell_type": "code",
   "execution_count": null,
   "id": "0daa7287",
   "metadata": {},
   "outputs": [],
   "source": [
    "bins = [0, 5, 10, 15, 20, 25, 30, 35, 40, 45, 50, 55, 60, 65, 70, 75, 80, 85, 90, 95, 100,105,110,115,120]  # Define your bin ranges here\n",
    "labels = ['1-5', '6-10', '11-15', '16-20', '21-25', '26-30', '31-35', '36-40', '41-45', '46-50',\n",
    "          '51-55', '56-60', '61-65', '66-70', '71-75', '76-80', '81-85', '86-90', '91-95', '96-100','101-105','106-110','111-115','116-120']  # Labels for the bins\n",
    "\n",
    "\n",
    "# Cut the 'sum_over_progress' into bins and count occurrences\n",
    "count_match_ids = pd.cut(sum_over_progress, bins=bins, labels=labels, include_lowest=True).value_counts().sort_index()\n",
    "\n",
    "plt.figure(figsize=(8, 6))\n",
    "count_match_ids.plot(kind='bar', color='green')\n",
    "plt.title('Commulative total overs bowled in matches')\n",
    "plt.xlabel('Bins of overProgress sum')\n",
    "plt.ylabel('Count of match IDs')\n",
    "plt.xticks(rotation=45)\n",
    "plt.grid(axis='y')\n",
    "plt.tight_layout()\n",
    "plt.show()"
   ]
  },
  {
   "cell_type": "code",
   "execution_count": null,
   "id": "5ec1fbe0",
   "metadata": {},
   "outputs": [],
   "source": [
    "total_count = count_match_ids.sum()\n",
    "percentage = (count_match_ids / total_count) * 100\n",
    "\n",
    "# Plotting the horizontal bar chart with percentage labels\n",
    "plt.figure(figsize=(8, 6))\n",
    "bars = plt.barh(percentage.index, percentage, color='orange')\n",
    "\n",
    "# Adding percentage values on each bar\n",
    "for bar, percent in zip(bars, percentage):\n",
    "    plt.text(bar.get_width() + 1, bar.get_y() + bar.get_height()/2, f'{percent:.2f}%', \n",
    "             va='center', ha='left', color='black')\n",
    "\n",
    "plt.title('total number of overs bowled in a full match')\n",
    "plt.xlabel('Percentage of match IDs')\n",
    "plt.ylabel('Bins of overProgress sum')\n",
    "plt.grid(axis='x')\n",
    "plt.tight_layout()\n",
    "plt.show()"
   ]
  },
  {
   "cell_type": "code",
   "execution_count": null,
   "id": "878c7e82",
   "metadata": {},
   "outputs": [],
   "source": []
  },
  {
   "cell_type": "markdown",
   "id": "aecd8864",
   "metadata": {},
   "source": [
    "The Above graph can help cricket boards and stake holders to understand the match klength, and potential viewrship etc to get more money involved etc in the game.\n"
   ]
  },
  {
   "cell_type": "code",
   "execution_count": null,
   "id": "1f249a7f",
   "metadata": {},
   "outputs": [],
   "source": [
    "matches['result'] = matches['matchStatus_text'].str.split().str[0]\n",
    "print(matches['result'])\n",
    "unique_teams = matches['result'].unique()\n",
    "matches['unique_team_names'] = matches['result'].apply(lambda x: x if x in unique_teams else None)\n",
    "\n",
    "matches['toss'] = matches['toss.winner'].str.split().str[0]\n"
   ]
  },
  {
   "cell_type": "code",
   "execution_count": null,
   "id": "1057c2c9",
   "metadata": {},
   "outputs": [],
   "source": [
    "# Total matches where a team won the toss\n",
    "total_toss_wins = matches['toss'].count()\n",
    "\n",
    "# Matches where the team won both the toss and the match\n",
    "matches_won_toss_and_match = matches[(matches['result'] == matches['toss']) & (~matches['result'].isnull())]\n",
    "\n",
    "# Count of matches won both toss and match\n",
    "matches_won_both = matches_won_toss_and_match['result'].count()\n",
    "\n",
    "# Calculate the probability\n",
    "probability_win_given_toss = matches_won_both / total_toss_wins\n",
    "print(\"Probability of winning the match if a team wins the toss:\", probability_win_given_toss)"
   ]
  },
  {
   "cell_type": "code",
   "execution_count": null,
   "id": "0136c960",
   "metadata": {},
   "outputs": [],
   "source": [
    "# Group by 'toss' and 'result' to count occurrences for each team\n",
    "grouped = matches.groupby('toss')['result'].value_counts().reset_index(name='count')\n",
    "\n",
    "# Calculate the total toss wins for each team\n",
    "total_toss_wins = grouped.groupby('toss')['count'].sum()\n",
    "\n",
    "# Calculate the matches where the team won both the toss and the match\n",
    "matches_won_toss_and_match = grouped[grouped['toss'] == grouped['result']]\n",
    "\n",
    "# Calculate the probability for each team\n",
    "matches_won_both = matches_won_toss_and_match.set_index('toss')['count']\n",
    "probability_win_given_toss = matches_won_both / total_toss_wins\n",
    "\n",
    "# Sort the probability in descending order\n",
    "sorted_probabilities = probability_win_given_toss.sort_values(ascending=False)\n",
    "\n",
    "print(\"Probability of winning the match if a team wins the toss (sorted):\")\n",
    "print(sorted_probabilities)"
   ]
  },
  {
   "cell_type": "code",
   "execution_count": null,
   "id": "666e12ac",
   "metadata": {},
   "outputs": [],
   "source": [
    "# Create a bar chart\n",
    "plt.figure(figsize=(10, 6))\n",
    "sorted_probabilities.plot(kind='bar', color='skyblue')\n",
    "plt.xlabel('Team')\n",
    "plt.ylabel('Probability of Winning Match after Winning Toss')\n",
    "plt.title('Probability of Winning Match if Team Wins the Toss')\n",
    "plt.xticks(rotation=90)\n",
    "plt.tight_layout()\n",
    "plt.show()"
   ]
  },
  {
   "cell_type": "code",
   "execution_count": null,
   "id": "73fa6a85",
   "metadata": {},
   "outputs": [],
   "source": [
    "\n",
    "\n",
    "# Convert the timestamp to a readable date\n",
    "timestamp = 1.71E+11 / 1000  # Convert from milliseconds to seconds\n",
    "date = datetime.datetime.fromtimestamp(timestamp)\n",
    "\n",
    "print(date)"
   ]
  },
  {
   "cell_type": "code",
   "execution_count": null,
   "id": "7f096579",
   "metadata": {},
   "outputs": [],
   "source": [
    "matches['matchDate'] = pd.to_datetime(matches['matchDateMs'], unit='ms')  # Convert to datetime\n",
    "matches['year'] = matches['matchDate'].dt.year  # Extract year\n"
   ]
  },
  {
   "cell_type": "code",
   "execution_count": null,
   "id": "092b5244",
   "metadata": {},
   "outputs": [],
   "source": [
    "matches['duration_min']= (matches['matchEndDateMs']-matches['matchDateMs']) / 60000  #gives in minutes, each match duration\n",
    "average_duration_per_year = matches.groupby('year')['duration_min'].mean() #average length \n",
    "\n",
    "print(average_duration_per_year)"
   ]
  },
  {
   "cell_type": "code",
   "execution_count": null,
   "id": "2f1c0b31",
   "metadata": {},
   "outputs": [],
   "source": [
    "\n",
    "# Plotting the graph with enhanced readability\n",
    "plt.figure(figsize=(10, 6))\n",
    "plt.plot(average_duration_per_year.index, average_duration_per_year.values, marker='o', linestyle='-', color='blue', linewidth=2)\n",
    "plt.xlabel('Year')\n",
    "plt.ylabel('Average Duration of Matches (minutes)')\n",
    "plt.title('Average Duration of Matches per Year')\n",
    "plt.xticks([x for x in average_duration_per_year.index if x not in [2012, 2013, 2014, 2016, 2017, 2018,2020,2021,2022,2023]], rotation=45)  # Excluding specific years from x-axis\n",
    "plt.grid(True)\n",
    "plt.tight_layout()\n",
    "\n",
    "# Adding annotations for average duration values (adjusted positions)\n",
    "for x, y in zip(average_duration_per_year.index, average_duration_per_year.values):\n",
    "    plt.annotate(f'{y:.2f}', (x, y), textcoords=\"offset points\", xytext=(0,10), ha='center', fontsize=8, color='black')\n",
    "\n",
    "# Show plot\n",
    "plt.show()"
   ]
  },
  {
   "cell_type": "markdown",
   "id": "398901c2",
   "metadata": {},
   "source": [
    "Most time duration data looks correct.A complete match takes around 10-12 hours to complete. time could vary due to size of groaud(smaller boundry=more sixes=more tiem to retreive balls0 etc"
   ]
  },
  {
   "cell_type": "code",
   "execution_count": null,
   "id": "12aa6422",
   "metadata": {},
   "outputs": [],
   "source": [
    "teams['fullname'].unique()"
   ]
  },
  {
   "cell_type": "code",
   "execution_count": null,
   "id": "930118f7",
   "metadata": {},
   "outputs": [],
   "source": [
    "result = teams.groupby('fullname').agg({'wicketkeeperid': pd.Series.nunique, 'captainid': pd.Series.nunique})\n",
    "result = result.rename(columns={'wicketkeeperid': 'uniquewicketkeepercount', 'captainid': 'uniquecaptaincount'})\n",
    "result = result.sort_values(by=['uniquewicketkeepercount', 'uniquecaptaincount'])\n",
    "\n",
    "\n",
    "print(result)\n"
   ]
  },
  {
   "cell_type": "code",
   "execution_count": null,
   "id": "c288b927",
   "metadata": {},
   "outputs": [],
   "source": [
    "\n",
    "# Plotting the bar chart\n",
    "plt.figure(figsize=(10, 6))\n",
    "result.plot(kind='bar', stacked=True)\n",
    "plt.xlabel('Teams')\n",
    "plt.ylabel('Count')\n",
    "plt.title('Counts of Unique Wicket Keepers and Captains per Team')\n",
    "plt.xticks(rotation=45)\n",
    "plt.legend([\"Unique Wicket Keepers\", \"Unique Captains\"])\n",
    "plt.tight_layout()\n",
    "\n",
    "# Show plot\n",
    "plt.show()"
   ]
  },
  {
   "cell_type": "code",
   "execution_count": null,
   "id": "62412bbc",
   "metadata": {},
   "outputs": [],
   "source": [
    "# Plotting the grouped bar chart with enhanced styling\n",
    "plt.figure(figsize=(12, 6))\n",
    "\n",
    "bar_width = 0.4  # Width of each bar\n",
    "index = range(len(result.index))\n",
    "unique_wicketkeepers = result['uniquewicketkeepercount']\n",
    "unique_captains = result['uniquecaptaincount']\n",
    "\n",
    "plt.bar(index, unique_wicketkeepers, width=bar_width, label='Unique Wicket Keepers', color='skyblue')\n",
    "plt.bar([i + bar_width for i in index], unique_captains, width=bar_width, label='Unique Captains', color='lightgreen')\n",
    "\n",
    "plt.xlabel('Teams', fontsize=12)\n",
    "plt.ylabel('Count', fontsize=12)\n",
    "plt.title('Counts of Unique Wicket Keepers and Captains per Team', fontsize=14)\n",
    "plt.xticks([i + bar_width / 2 for i in index], result.index, rotation=90, fontsize=10)\n",
    "plt.legend(fontsize=10)\n",
    "plt.tight_layout()\n",
    "\n",
    "# Show plot\n",
    "plt.show()"
   ]
  },
  {
   "cell_type": "code",
   "execution_count": null,
   "id": "c11b22a1",
   "metadata": {},
   "outputs": [],
   "source": [
    "# Find wicketkeepers who have also been captains\n",
    "wicketkeepers_and_captains = teams[teams['wicketkeeperid'].isin(teams['captainid'])]\n",
    "\n",
    "# Count the unique wicketkeepers who have also been captains\n",
    "count_wicketkeepers_as_captains = wicketkeepers_and_captains['wicketkeeperid'].nunique()\n",
    "\n",
    "print(f\"Number of wicketkeepers who have also been captains: {count_wicketkeepers_as_captains}\")"
   ]
  },
  {
   "cell_type": "code",
   "execution_count": null,
   "id": "b875b373",
   "metadata": {},
   "outputs": [],
   "source": [
    "\n",
    "# Find wicketkeepers who have also been captains\n",
    "wicketkeepers_and_captains = teams[teams['wicketkeeperid'].isin(teams['captainid'])]\n",
    "\n",
    "# Group by team names and count the unique wicketkeepers who have also been captains\n",
    "grouped_teams = wicketkeepers_and_captains.groupby('fullname').agg({'wicketkeeperid': pd.Series.nunique})\n",
    "\n",
    "print(grouped_teams)"
   ]
  },
  {
   "cell_type": "code",
   "execution_count": null,
   "id": "b299bd26",
   "metadata": {},
   "outputs": [],
   "source": [
    "grouped_teams = grouped_teams.sort_values(by='wicketkeeperid', ascending=False)\n",
    "\n",
    "# Plotting the chart with a single color\n",
    "plt.figure(figsize=(12, 8))\n",
    "\n",
    "bar_color = 'skyblue'  # Set a color for all bars\n",
    "bar_positions = range(len(grouped_teams.index))\n",
    "\n",
    "plt.bar(bar_positions, grouped_teams['wicketkeeperid'], color=bar_color)\n",
    "plt.xlabel('Teams', fontsize=12)\n",
    "plt.ylabel('Count of Wicketkeepers also Captains', fontsize=12)\n",
    "plt.title('Count of Unique Wicketkeepers who are also Captains per Team', fontsize=14)\n",
    "plt.xticks(bar_positions, grouped_teams.index, rotation=45, fontsize=10)\n",
    "plt.yticks(fontsize=10)\n",
    "plt.grid(axis='y', linestyle='--', alpha=0.7)\n",
    "\n",
    "plt.tight_layout()\n",
    "plt.show()"
   ]
  },
  {
   "cell_type": "code",
   "execution_count": null,
   "id": "39784dce",
   "metadata": {},
   "outputs": [],
   "source": [
    "teams_wc = teams['fullname'].unique()\n",
    "print(\"Teams who have played the world cup:\", teams_wc)\n",
    "print(\"Total number of teams who have played the worldcup:\", len(teams_wc))"
   ]
  },
  {
   "cell_type": "code",
   "execution_count": null,
   "id": "87cc3a6f",
   "metadata": {},
   "outputs": [],
   "source": []
  },
  {
   "cell_type": "code",
   "execution_count": null,
   "id": "5085e3fe",
   "metadata": {},
   "outputs": [],
   "source": [
    "\n",
    "# Inner join 'matches' and 'venues' based on 'venueId'\n",
    "merged_data = pd.merge(matches, venues, left_on='venueId', right_on='id', suffixes=('_match', '_venue'))\n",
    "\n",
    "# Filter rows where 'matchStatus_text' is 'No result'\n",
    "no_result_venues = merged_data[merged_data['matchStatus_text'] == 'No result']\n",
    "\n",
    "# Group by country and count occurrences of 'No result'\n",
    "country_counts = no_result_venues.groupby('country')['fullName'].value_counts()\n",
    "\n",
    "# Reset index to access 'country' as a column\n",
    "country_counts = country_counts.reset_index(name='count')\n",
    "\n",
    "# Plotting the bar chart\n",
    "plt.figure(figsize=(12, 6))\n",
    "plt.bar(country_counts['country'], country_counts['count'], color='skyblue')\n",
    "plt.xlabel('Country')\n",
    "plt.ylabel('Count of No Result')\n",
    "plt.title('Count of No Result by Country')\n",
    "plt.xticks(rotation=90)  # Rotate x-axis labels for better readability\n",
    "plt.tight_layout()\n",
    "plt.show()"
   ]
  },
  {
   "cell_type": "code",
   "execution_count": null,
   "id": "4ea8b5c1",
   "metadata": {},
   "outputs": [],
   "source": [
    "\n",
    "# Assuming 'matches' is your DataFrame containing match details\n",
    "\n",
    "# Extracting the winning country from 'matchStatus_text'\n",
    "matches['winning_country'] = matches['matchStatus_text'].str.split().str[0]\n",
    "\n",
    "# Inner join 'matches' and 'venues' based on 'venueId'\n",
    "merged_data = pd.merge(matches, venues, left_on='venueId', right_on='id', suffixes=('_match', '_venue'))\n",
    "\n",
    "# Group by venue country and winning team, count occurrences\n",
    "venue_country_team_counts = merged_data.groupby(['country', 'winning_country']).size().reset_index(name='count')\n",
    "\n",
    "# Pivot the data for correlation analysis\n",
    "pivot_table = venue_country_team_counts.pivot_table(index='country', columns='winning_country', values='count', fill_value=0)\n",
    "\n",
    "# Calculate correlation matrix\n",
    "correlation_matrix = pivot_table.corr()\n",
    "\n",
    "# Plotting the correlation matrix\n",
    "plt.figure(figsize=(10, 8))\n",
    "plt.imshow(correlation_matrix, cmap='coolwarm', interpolation='nearest')\n",
    "plt.colorbar()\n",
    "plt.title('Correlation between Venue Country and Winning Team Country')\n",
    "plt.xticks(range(len(correlation_matrix.columns)), correlation_matrix.columns, rotation=90)\n",
    "plt.yticks(range(len(correlation_matrix.columns)), correlation_matrix.columns)\n",
    "plt.tight_layout()\n",
    "plt.show()\n"
   ]
  },
  {
   "cell_type": "code",
   "execution_count": null,
   "id": "1763e526",
   "metadata": {},
   "outputs": [],
   "source": [
    "venues_count_per_country = venues.groupby('country')['fullName'].count().reset_index()\n",
    "venues_count_per_country.columns = ['Country', 'VenueCount']\n",
    "\n",
    "# Sort the result by 'VenueCount' in descending order\n",
    "venues_count_per_country_sorted = venues_count_per_country.sort_values(by='VenueCount', ascending=False)\n",
    "\n",
    "print(venues_count_per_country_sorted)"
   ]
  },
  {
   "cell_type": "code",
   "execution_count": null,
   "id": "dc905b7b",
   "metadata": {},
   "outputs": [],
   "source": [
    "# Plotting the bar chart\n",
    "plt.figure(figsize=(10, 6))\n",
    "plt.bar(venues_count_per_country_sorted['Country'], venues_count_per_country_sorted['VenueCount'])\n",
    "plt.xlabel('Country')\n",
    "plt.ylabel('Number of Venues')\n",
    "plt.title('Number of Venues per Country')\n",
    "plt.xticks(rotation=90)  # Rotate x-axis labels for better readability\n",
    "plt.tight_layout()\n",
    "plt.show()"
   ]
  },
  {
   "cell_type": "code",
   "execution_count": null,
   "id": "0d7e7e49",
   "metadata": {},
   "outputs": [],
   "source": [
    "players_count_per_nationality = players.groupby('nationality')['id'].count().reset_index()\n",
    "players_count_per_nationality.columns = ['Nationality', 'PlayerCount']\n",
    "players_count_per_nationality.sort_values(by='PlayerCount', ascending=False, inplace=True)\n",
    "\n",
    "print(players_count_per_nationality)"
   ]
  },
  {
   "cell_type": "code",
   "execution_count": null,
   "id": "c9f1ed6d",
   "metadata": {},
   "outputs": [],
   "source": [
    "# Plotting the bar chart\n",
    "plt.figure(figsize=(10, 6))\n",
    "plt.bar(players_count_per_nationality['Nationality'], players_count_per_nationality['PlayerCount'])\n",
    "plt.xlabel('Nationality')\n",
    "plt.ylabel('Player Count')\n",
    "plt.title('Player Count per Nationality')\n",
    "plt.xticks(rotation=90)  # Rotating x-axis labels for better readability\n",
    "plt.tight_layout()\n",
    "plt.show()"
   ]
  },
  {
   "cell_type": "code",
   "execution_count": null,
   "id": "28de052e",
   "metadata": {},
   "outputs": [],
   "source": [
    "# Convert 'rightHandedBat' column to boolean\n",
    "#players['rightHandedBat'] = players['rightHandedBat'].astype(bool)\n",
    "\n",
    "# Group by 'nationality' and count the number of right-handed batsmen for each nationality\n",
    "right_handed_batsmen_per_nationality = players[players['rightHandedBat']].groupby('nationality')['id'].count().reset_index()\n",
    "right_handed_batsmen_per_nationality.columns = ['Nationality', 'RightHandedBatsmenCount']\n",
    "\n",
    "# Sort by 'RightHandedBatsmenCount' in descending order\n",
    "right_handed_batsmen_per_nationality = right_handed_batsmen_per_nationality.sort_values(by='RightHandedBatsmenCount', ascending=False)\n",
    "\n",
    "# Print the sorted DataFrame\n",
    "print(right_handed_batsmen_per_nationality)\n",
    "\n",
    "# Plotting the bar chart\n",
    "plt.figure(figsize=(10, 6))\n",
    "plt.bar(right_handed_batsmen_per_nationality['Nationality'], right_handed_batsmen_per_nationality['RightHandedBatsmenCount'])\n",
    "plt.xlabel('Nationality')\n",
    "plt.ylabel('Count of Right-Handed Batsmen')\n",
    "plt.title('Count of Right-Handed Batsmen per Nationality')\n",
    "plt.xticks(rotation=90)\n",
    "plt.tight_layout()\n",
    "plt.show()"
   ]
  },
  {
   "cell_type": "code",
   "execution_count": null,
   "id": "07777e28",
   "metadata": {},
   "outputs": [],
   "source": [
    "\n",
    "# Calculate the total number of players and the number of right-handed batsmen\n",
    "total_players = len(players)\n",
    "right_handed_batsmen_count = players['rightHandedBat'].sum()\n",
    "\n",
    "# Calculate the percentage of right-handed batsmen to the total players\n",
    "percentage_right_handed = (right_handed_batsmen_count / total_players) * 100\n",
    "\n",
    "print(f\"Percentage of right-handed batsmen to total players: {percentage_right_handed:.2f}%\")\n",
    "\n",
    "# Create a pie chart showing the percentage of right-handed batsmen to the total players\n",
    "labels = ['Right-Handed Batsmen', 'Other Players']\n",
    "sizes = [percentage_right_handed, 100 - percentage_right_handed]\n",
    "colors = ['lightblue', 'lightgrey']\n",
    "\n",
    "plt.figure(figsize=(6, 6))\n",
    "plt.pie(sizes, labels=labels, colors=colors, autopct='%1.1f%%', startangle=90)\n",
    "plt.title('Percentage of Right-Handed Batsmen to Total Players')\n",
    "plt.axis('equal')\n",
    "plt.show()"
   ]
  },
  {
   "cell_type": "code",
   "execution_count": null,
   "id": "8b4e0d86",
   "metadata": {},
   "outputs": [],
   "source": [
    "\n",
    "# Calculate the percentage of values with 'boundary' as True\n",
    "percentage_boundary_true = (overbd['boundary'].sum() / len(overbd)) * 100\n",
    "percentage_non_boundary = 100 - percentage_boundary_true\n",
    "\n",
    "# Create a pie chart\n",
    "labels = ['Boundary', 'Non-Boundary']\n",
    "sizes = [percentage_boundary_true, percentage_non_boundary]\n",
    "colors = ['lightblue', 'lightgrey']\n",
    "\n",
    "plt.figure(figsize=(6, 6))\n",
    "plt.pie(sizes, labels=labels, colors=colors, autopct='%1.1f%%', startangle=90)\n",
    "plt.title('Percentage of Values that Went to Boundary')\n",
    "plt.axis('equal')\n",
    "plt.show()"
   ]
  },
  {
   "cell_type": "code",
   "execution_count": null,
   "id": "7d25ea99",
   "metadata": {},
   "outputs": [],
   "source": [
    "\n",
    "# Step 1: Calculate the count of boundaries for each player\n",
    "boundary_counts = overbd[overbd['boundary']].groupby('facingBatsmanId').size().reset_index()\n",
    "boundary_counts.columns = ['id', 'BoundaryCount']\n",
    "\n",
    "# Step 2: Merge 'players' and 'boundary_counts' on 'id' columns\n",
    "merged_data = pd.merge(players, boundary_counts, on='id', how='left')\n",
    "\n",
    "# Step 3: Aggregate the count of boundaries for each player\n",
    "player_boundary_totals = merged_data.groupby(['id', 'fullName'])['BoundaryCount'].sum().reset_index()\n",
    "\n",
    "# Step 4: Identify the player with the maximum count of boundaries\n",
    "player_with_most_boundaries = player_boundary_totals[player_boundary_totals['BoundaryCount'] == player_boundary_totals['BoundaryCount'].max()]\n",
    "print(\"Player with the most boundaries:\")\n",
    "print(player_with_most_boundaries)"
   ]
  },
  {
   "cell_type": "code",
   "execution_count": null,
   "id": "9bef5645",
   "metadata": {},
   "outputs": [],
   "source": [
    "\n",
    "# Calculate the count of boundaries for each player\n",
    "boundary_counts = overbd[overbd['boundary']].groupby('facingBatsmanId').size().reset_index()\n",
    "boundary_counts.columns = ['id', 'BoundaryCount']\n",
    "\n",
    "# Merge 'players' and 'boundary_counts' on 'id' columns\n",
    "merged_data = pd.merge(players, boundary_counts, on='id', how='left')\n",
    "\n",
    "# Aggregate the count of boundaries for each player\n",
    "player_boundary_totals = merged_data.groupby(['id', 'fullName'])['BoundaryCount'].sum().reset_index()\n",
    "\n",
    "# Get the top 10 players with the most boundaries\n",
    "top_10_players = player_boundary_totals.nlargest(10, 'BoundaryCount')\n",
    "\n",
    "# Plotting the bar chart for top 10 players with most boundaries\n",
    "plt.figure(figsize=(10, 6))\n",
    "plt.bar(top_10_players['fullName'], top_10_players['BoundaryCount'], color='skyblue')\n",
    "plt.xlabel('Player')\n",
    "plt.ylabel('Boundary Count')\n",
    "plt.title('Top 10 Players with Most Boundaries')\n",
    "plt.xticks(rotation=45, ha='right')\n",
    "plt.tight_layout()\n",
    "plt.show()"
   ]
  },
  {
   "cell_type": "code",
   "execution_count": null,
   "id": "e7343904",
   "metadata": {},
   "outputs": [],
   "source": [
    "# Calculate the count of boundaries conceded by each player ('bowler')\n",
    "boundary_conceded_counts = overbd[overbd['boundary']].groupby('bowlerId').size().reset_index()\n",
    "boundary_conceded_counts.columns = ['id', 'BoundaryConcededCount']\n",
    "\n",
    "# Merge 'players' and 'boundary_conceded_counts' on 'id' columns\n",
    "merged_data = pd.merge(players, boundary_conceded_counts, on='id', how='left')\n",
    "\n",
    "# Aggregate the count of boundaries conceded by each player\n",
    "player_boundary_conceded_totals = merged_data.groupby(['id', 'fullName'])['BoundaryConcededCount'].sum().reset_index()\n",
    "\n",
    "# Get the top 10 players ('bowlers') who conceded the most boundaries\n",
    "top_10_players_conceding_boundaries = player_boundary_conceded_totals.nlargest(10, 'BoundaryConcededCount')\n",
    "\n",
    "# Plotting the bar chart for top 10 players who conceded the most boundaries\n",
    "plt.figure(figsize=(10, 6))\n",
    "plt.bar(top_10_players_conceding_boundaries['fullName'], top_10_players_conceding_boundaries['BoundaryConcededCount'], color='salmon')\n",
    "plt.xlabel('Player (Bowler)')\n",
    "plt.ylabel('Boundary Conceded Count')\n",
    "plt.title('Top 10 Players Conceding Most Boundaries')\n",
    "plt.xticks(rotation=45, ha='right')\n",
    "plt.tight_layout()\n",
    "plt.show()"
   ]
  },
  {
   "cell_type": "code",
   "execution_count": null,
   "id": "f1f27ad0",
   "metadata": {},
   "outputs": [],
   "source": []
  }
 ],
 "metadata": {
  "kernelspec": {
   "display_name": "Python 3 (ipykernel)",
   "language": "python",
   "name": "python3"
  },
  "language_info": {
   "codemirror_mode": {
    "name": "ipython",
    "version": 3
   },
   "file_extension": ".py",
   "mimetype": "text/x-python",
   "name": "python",
   "nbconvert_exporter": "python",
   "pygments_lexer": "ipython3",
   "version": "3.11.5"
  }
 },
 "nbformat": 4,
 "nbformat_minor": 5
}
